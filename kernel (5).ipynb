{
  "cells": [
    {
      "metadata": {
        "trusted": true,
        "_uuid": "15f64ee827b6ab09cb8634f735abdab48c92b6e5"
      },
      "cell_type": "code",
      "source": "import random as randc\nimport matplotlib.pyplot as plt\ndef hyperbola(x,b,c):\n    return(((b*x*x)-c)**0.5)\nrandomX=[]\nrandomY=[]\nfor i in range(-1000,1000):\n    randomX.append(rand.randint(-1000,1000))\nfor i in range(0,len(randomX)):\n    randomY.append(hyperbola(randomX[i],2,9))\nplt.plot(randomX,randomY)\nplt.show()\n    ",
      "execution_count": null,
      "outputs": []
    }
  ],
  "metadata": {
    "kernelspec": {
      "display_name": "Python 3",
      "language": "python",
      "name": "python3"
    },
    "language_info": {
      "name": "python",
      "version": "3.6.6",
      "mimetype": "text/x-python",
      "codemirror_mode": {
        "name": "ipython",
        "version": 3
      },
      "pygments_lexer": "ipython3",
      "nbconvert_exporter": "python",
      "file_extension": ".py"
    }
  },
  "nbformat": 4,
  "nbformat_minor": 1
}