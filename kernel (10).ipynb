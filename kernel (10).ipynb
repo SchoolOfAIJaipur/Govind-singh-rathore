{
  "cells": [
    {
      "metadata": {
        "_cell_guid": "79c7e3d0-c299-4dcb-8224-4455121ee9b0",
        "_uuid": "d629ff2d2480ee46fbb7e2d37f6b5fab8052498a",
        "trusted": true
      },
      "cell_type": "code",
      "source": "import random as rand\nimport numpy as np\ne=2.732\ndef Gaussianpdf(x,sig,u):\n    return(((2*np.pi)**(-0.5))*1/sig)*e**-((x-u)*(x-u))/(sig*sig)\nrandomX=[]\nrandomY=[]\nfor i in range(0,1000):\n    randomX.append(rand.randint(0,1000))\nfor i in range(0,len(randomX)):\n    randomY.append(Gaussianpdf(randomX[i],85,24))\nprint(randomY)",
      "execution_count": null,
      "outputs": []
    }
  ],
  "metadata": {
    "kernelspec": {
      "display_name": "Python 3",
      "language": "python",
      "name": "python3"
    },
    "language_info": {
      "name": "python",
      "version": "3.6.6",
      "mimetype": "text/x-python",
      "codemirror_mode": {
        "name": "ipython",
        "version": 3
      },
      "pygments_lexer": "ipython3",
      "nbconvert_exporter": "python",
      "file_extension": ".py"
    }
  },
  "nbformat": 4,
  "nbformat_minor": 1
}