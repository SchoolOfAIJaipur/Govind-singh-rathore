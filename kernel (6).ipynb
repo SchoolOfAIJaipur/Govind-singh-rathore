{
  "cells": [
    {
      "metadata": {
        "trusted": true,
        "_uuid": "ab7503bf4f1b089185503ac9f93e2683eb38849d"
      },
      "cell_type": "code",
      "source": "import random as rand\nimport matplotlib.pyplot as plt\ndef ellipse(x,b,c):\n    return(((b*x*x)+c)**0.5)\nrandomX=[]\nrandomY=[]\nfor i in range(-1000,1000):\n    randomX.append(rand.randint(-1000,1000))\nfor i in range(0,len(randomX)):\n    randomY.append(ellipse(randomX[i],2,9))\nplt.plot(randomX,randomY)\nplt.show()",
      "execution_count": null,
      "outputs": []
    }
  ],
  "metadata": {
    "kernelspec": {
      "display_name": "Python 3",
      "language": "python",
      "name": "python3"
    },
    "language_info": {
      "name": "python",
      "version": "3.6.6",
      "mimetype": "text/x-python",
      "codemirror_mode": {
        "name": "ipython",
        "version": 3
      },
      "pygments_lexer": "ipython3",
      "nbconvert_exporter": "python",
      "file_extension": ".py"
    }
  },
  "nbformat": 4,
  "nbformat_minor": 1
}