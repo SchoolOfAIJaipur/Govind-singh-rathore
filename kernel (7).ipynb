{
  "cells": [
    {
      "metadata": {
        "trusted": true,
        "_uuid": "d13d279b3117518c5d5139abe41c2f716d136666"
      },
      "cell_type": "code",
      "source": "import random as rand\nimport matplotlib.pyplot as plt\nimport numpy as np\nx=np.linspace(0,2*np.pi,2000)\ny=np.sin(x)\nplt.plot(x,y)\nplt.show()",
      "execution_count": null,
      "outputs": []
    }
  ],
  "metadata": {
    "kernelspec": {
      "display_name": "Python 3",
      "language": "python",
      "name": "python3"
    },
    "language_info": {
      "name": "python",
      "version": "3.6.6",
      "mimetype": "text/x-python",
      "codemirror_mode": {
        "name": "ipython",
        "version": 3
      },
      "pygments_lexer": "ipython3",
      "nbconvert_exporter": "python",
      "file_extension": ".py"
    }
  },
  "nbformat": 4,
  "nbformat_minor": 1
}